{
 "cells": [
  {
   "cell_type": "markdown",
   "metadata": {},
   "source": [
    "## DSCI FINAL PROJECT \n",
    "### NBA DATA\n",
    "#### Kyle Cummings \n",
    "###### (WORKED ALONE)"
   ]
  },
  {
   "cell_type": "markdown",
   "metadata": {},
   "source": [
    "Data Source: \n",
    "https://www.kaggle.com/datasets/nathanlauga/nba-games"
   ]
  },
  {
   "cell_type": "markdown",
   "metadata": {},
   "source": [
    "GitHub: https://github.com/CrepeTown/DSCI_FINAL_NBA"
   ]
  },
  {
   "cell_type": "markdown",
   "metadata": {},
   "source": [
    "Questions\n",
    "* Who have been some of the top players all time?\n",
    "* How has the game progressed? By looking at stat progression over the years.\n",
    "* What stat is the most influential in a team winning?"
   ]
  },
  {
   "cell_type": "code",
   "execution_count": 212,
   "metadata": {},
   "outputs": [],
   "source": [
    "import pandas as pd\n",
    "import numpy as np\n",
    "import matplotlib.pyplot as plt\n",
    "import seaborn as sns"
   ]
  },
  {
   "cell_type": "markdown",
   "metadata": {},
   "source": [
    "These tables are set up in a 'realtional' way which allows them to be joined very easily."
   ]
  },
  {
   "cell_type": "code",
   "execution_count": 213,
   "metadata": {},
   "outputs": [
    {
     "name": "stderr",
     "output_type": "stream",
     "text": [
      "C:\\Users\\Kylec\\AppData\\Local\\Temp\\ipykernel_14868\\3347670593.py:1: DtypeWarning: Columns (6) have mixed types. Specify dtype option on import or set low_memory=False.\n",
      "  games_details = pd.read_csv('games_details.csv')\n"
     ]
    }
   ],
   "source": [
    "games_details = pd.read_csv('games_details.csv')\n",
    "games = pd.read_csv('games.csv')\n",
    "players = pd.read_csv('players.csv')\n",
    "teams = pd.read_csv('teams.csv')"
   ]
  },
  {
   "cell_type": "markdown",
   "metadata": {},
   "source": [
    "### Table Previews"
   ]
  },
  {
   "cell_type": "code",
   "execution_count": 214,
   "metadata": {},
   "outputs": [
    {
     "data": {
      "text/html": [
       "<div>\n",
       "<style scoped>\n",
       "    .dataframe tbody tr th:only-of-type {\n",
       "        vertical-align: middle;\n",
       "    }\n",
       "\n",
       "    .dataframe tbody tr th {\n",
       "        vertical-align: top;\n",
       "    }\n",
       "\n",
       "    .dataframe thead th {\n",
       "        text-align: right;\n",
       "    }\n",
       "</style>\n",
       "<table border=\"1\" class=\"dataframe\">\n",
       "  <thead>\n",
       "    <tr style=\"text-align: right;\">\n",
       "      <th></th>\n",
       "      <th>GAME_ID</th>\n",
       "      <th>TEAM_ID</th>\n",
       "      <th>TEAM_ABBREVIATION</th>\n",
       "      <th>TEAM_CITY</th>\n",
       "      <th>PLAYER_ID</th>\n",
       "      <th>PLAYER_NAME</th>\n",
       "      <th>NICKNAME</th>\n",
       "      <th>START_POSITION</th>\n",
       "      <th>COMMENT</th>\n",
       "      <th>MIN</th>\n",
       "      <th>...</th>\n",
       "      <th>OREB</th>\n",
       "      <th>DREB</th>\n",
       "      <th>REB</th>\n",
       "      <th>AST</th>\n",
       "      <th>STL</th>\n",
       "      <th>BLK</th>\n",
       "      <th>TO</th>\n",
       "      <th>PF</th>\n",
       "      <th>PTS</th>\n",
       "      <th>PLUS_MINUS</th>\n",
       "    </tr>\n",
       "  </thead>\n",
       "  <tbody>\n",
       "    <tr>\n",
       "      <th>0</th>\n",
       "      <td>22101005</td>\n",
       "      <td>1610612750</td>\n",
       "      <td>MIN</td>\n",
       "      <td>Minnesota</td>\n",
       "      <td>1630162</td>\n",
       "      <td>Anthony Edwards</td>\n",
       "      <td>Anthony</td>\n",
       "      <td>F</td>\n",
       "      <td>NaN</td>\n",
       "      <td>36:22</td>\n",
       "      <td>...</td>\n",
       "      <td>0.0</td>\n",
       "      <td>8.0</td>\n",
       "      <td>8.0</td>\n",
       "      <td>5.0</td>\n",
       "      <td>3.0</td>\n",
       "      <td>1.0</td>\n",
       "      <td>1.0</td>\n",
       "      <td>1.0</td>\n",
       "      <td>15.0</td>\n",
       "      <td>5.0</td>\n",
       "    </tr>\n",
       "  </tbody>\n",
       "</table>\n",
       "<p>1 rows × 29 columns</p>\n",
       "</div>"
      ],
      "text/plain": [
       "    GAME_ID     TEAM_ID TEAM_ABBREVIATION  TEAM_CITY  PLAYER_ID  \\\n",
       "0  22101005  1610612750               MIN  Minnesota    1630162   \n",
       "\n",
       "       PLAYER_NAME NICKNAME START_POSITION COMMENT    MIN  ...  OREB  DREB  \\\n",
       "0  Anthony Edwards  Anthony              F     NaN  36:22  ...   0.0   8.0   \n",
       "\n",
       "   REB  AST  STL  BLK   TO   PF   PTS  PLUS_MINUS  \n",
       "0  8.0  5.0  3.0  1.0  1.0  1.0  15.0         5.0  \n",
       "\n",
       "[1 rows x 29 columns]"
      ]
     },
     "execution_count": 214,
     "metadata": {},
     "output_type": "execute_result"
    }
   ],
   "source": [
    "games_details.head(1)"
   ]
  },
  {
   "cell_type": "code",
   "execution_count": 215,
   "metadata": {},
   "outputs": [
    {
     "data": {
      "text/html": [
       "<div>\n",
       "<style scoped>\n",
       "    .dataframe tbody tr th:only-of-type {\n",
       "        vertical-align: middle;\n",
       "    }\n",
       "\n",
       "    .dataframe tbody tr th {\n",
       "        vertical-align: top;\n",
       "    }\n",
       "\n",
       "    .dataframe thead th {\n",
       "        text-align: right;\n",
       "    }\n",
       "</style>\n",
       "<table border=\"1\" class=\"dataframe\">\n",
       "  <thead>\n",
       "    <tr style=\"text-align: right;\">\n",
       "      <th></th>\n",
       "      <th>GAME_DATE_EST</th>\n",
       "      <th>GAME_ID</th>\n",
       "      <th>GAME_STATUS_TEXT</th>\n",
       "      <th>HOME_TEAM_ID</th>\n",
       "      <th>VISITOR_TEAM_ID</th>\n",
       "      <th>SEASON</th>\n",
       "      <th>TEAM_ID_home</th>\n",
       "      <th>PTS_home</th>\n",
       "      <th>FG_PCT_home</th>\n",
       "      <th>FT_PCT_home</th>\n",
       "      <th>...</th>\n",
       "      <th>AST_home</th>\n",
       "      <th>REB_home</th>\n",
       "      <th>TEAM_ID_away</th>\n",
       "      <th>PTS_away</th>\n",
       "      <th>FG_PCT_away</th>\n",
       "      <th>FT_PCT_away</th>\n",
       "      <th>FG3_PCT_away</th>\n",
       "      <th>AST_away</th>\n",
       "      <th>REB_away</th>\n",
       "      <th>HOME_TEAM_WINS</th>\n",
       "    </tr>\n",
       "  </thead>\n",
       "  <tbody>\n",
       "    <tr>\n",
       "      <th>0</th>\n",
       "      <td>2022-03-12</td>\n",
       "      <td>22101005</td>\n",
       "      <td>Final</td>\n",
       "      <td>1610612748</td>\n",
       "      <td>1610612750</td>\n",
       "      <td>2021</td>\n",
       "      <td>1610612748</td>\n",
       "      <td>104.0</td>\n",
       "      <td>0.398</td>\n",
       "      <td>0.76</td>\n",
       "      <td>...</td>\n",
       "      <td>23.0</td>\n",
       "      <td>53.0</td>\n",
       "      <td>1610612750</td>\n",
       "      <td>113.0</td>\n",
       "      <td>0.422</td>\n",
       "      <td>0.875</td>\n",
       "      <td>0.357</td>\n",
       "      <td>21.0</td>\n",
       "      <td>46.0</td>\n",
       "      <td>0</td>\n",
       "    </tr>\n",
       "  </tbody>\n",
       "</table>\n",
       "<p>1 rows × 21 columns</p>\n",
       "</div>"
      ],
      "text/plain": [
       "  GAME_DATE_EST   GAME_ID GAME_STATUS_TEXT  HOME_TEAM_ID  VISITOR_TEAM_ID  \\\n",
       "0    2022-03-12  22101005            Final    1610612748       1610612750   \n",
       "\n",
       "   SEASON  TEAM_ID_home  PTS_home  FG_PCT_home  FT_PCT_home  ...  AST_home  \\\n",
       "0    2021    1610612748     104.0        0.398         0.76  ...      23.0   \n",
       "\n",
       "   REB_home  TEAM_ID_away  PTS_away  FG_PCT_away  FT_PCT_away  FG3_PCT_away  \\\n",
       "0      53.0    1610612750     113.0        0.422        0.875         0.357   \n",
       "\n",
       "   AST_away  REB_away  HOME_TEAM_WINS  \n",
       "0      21.0      46.0               0  \n",
       "\n",
       "[1 rows x 21 columns]"
      ]
     },
     "execution_count": 215,
     "metadata": {},
     "output_type": "execute_result"
    }
   ],
   "source": [
    "games.head(1)"
   ]
  },
  {
   "cell_type": "code",
   "execution_count": 216,
   "metadata": {},
   "outputs": [
    {
     "data": {
      "text/html": [
       "<div>\n",
       "<style scoped>\n",
       "    .dataframe tbody tr th:only-of-type {\n",
       "        vertical-align: middle;\n",
       "    }\n",
       "\n",
       "    .dataframe tbody tr th {\n",
       "        vertical-align: top;\n",
       "    }\n",
       "\n",
       "    .dataframe thead th {\n",
       "        text-align: right;\n",
       "    }\n",
       "</style>\n",
       "<table border=\"1\" class=\"dataframe\">\n",
       "  <thead>\n",
       "    <tr style=\"text-align: right;\">\n",
       "      <th></th>\n",
       "      <th>PLAYER_NAME</th>\n",
       "      <th>TEAM_ID</th>\n",
       "      <th>PLAYER_ID</th>\n",
       "      <th>SEASON</th>\n",
       "    </tr>\n",
       "  </thead>\n",
       "  <tbody>\n",
       "    <tr>\n",
       "      <th>0</th>\n",
       "      <td>Royce O'Neale</td>\n",
       "      <td>1610612762</td>\n",
       "      <td>1626220</td>\n",
       "      <td>2019</td>\n",
       "    </tr>\n",
       "  </tbody>\n",
       "</table>\n",
       "</div>"
      ],
      "text/plain": [
       "     PLAYER_NAME     TEAM_ID  PLAYER_ID  SEASON\n",
       "0  Royce O'Neale  1610612762    1626220    2019"
      ]
     },
     "execution_count": 216,
     "metadata": {},
     "output_type": "execute_result"
    }
   ],
   "source": [
    "players.head(1)"
   ]
  },
  {
   "cell_type": "code",
   "execution_count": 217,
   "metadata": {},
   "outputs": [
    {
     "data": {
      "text/html": [
       "<div>\n",
       "<style scoped>\n",
       "    .dataframe tbody tr th:only-of-type {\n",
       "        vertical-align: middle;\n",
       "    }\n",
       "\n",
       "    .dataframe tbody tr th {\n",
       "        vertical-align: top;\n",
       "    }\n",
       "\n",
       "    .dataframe thead th {\n",
       "        text-align: right;\n",
       "    }\n",
       "</style>\n",
       "<table border=\"1\" class=\"dataframe\">\n",
       "  <thead>\n",
       "    <tr style=\"text-align: right;\">\n",
       "      <th></th>\n",
       "      <th>LEAGUE_ID</th>\n",
       "      <th>TEAM_ID</th>\n",
       "      <th>MIN_YEAR</th>\n",
       "      <th>MAX_YEAR</th>\n",
       "      <th>ABBREVIATION</th>\n",
       "      <th>NICKNAME</th>\n",
       "      <th>YEARFOUNDED</th>\n",
       "      <th>CITY</th>\n",
       "      <th>ARENA</th>\n",
       "      <th>ARENACAPACITY</th>\n",
       "      <th>OWNER</th>\n",
       "      <th>GENERALMANAGER</th>\n",
       "      <th>HEADCOACH</th>\n",
       "      <th>DLEAGUEAFFILIATION</th>\n",
       "    </tr>\n",
       "  </thead>\n",
       "  <tbody>\n",
       "    <tr>\n",
       "      <th>0</th>\n",
       "      <td>0</td>\n",
       "      <td>1610612737</td>\n",
       "      <td>1949</td>\n",
       "      <td>2019</td>\n",
       "      <td>ATL</td>\n",
       "      <td>Hawks</td>\n",
       "      <td>1949</td>\n",
       "      <td>Atlanta</td>\n",
       "      <td>State Farm Arena</td>\n",
       "      <td>18729.0</td>\n",
       "      <td>Tony Ressler</td>\n",
       "      <td>Travis Schlenk</td>\n",
       "      <td>Lloyd Pierce</td>\n",
       "      <td>Erie Bayhawks</td>\n",
       "    </tr>\n",
       "  </tbody>\n",
       "</table>\n",
       "</div>"
      ],
      "text/plain": [
       "   LEAGUE_ID     TEAM_ID  MIN_YEAR  MAX_YEAR ABBREVIATION NICKNAME  \\\n",
       "0          0  1610612737      1949      2019          ATL    Hawks   \n",
       "\n",
       "   YEARFOUNDED     CITY             ARENA  ARENACAPACITY         OWNER  \\\n",
       "0         1949  Atlanta  State Farm Arena        18729.0  Tony Ressler   \n",
       "\n",
       "   GENERALMANAGER     HEADCOACH DLEAGUEAFFILIATION  \n",
       "0  Travis Schlenk  Lloyd Pierce      Erie Bayhawks  "
      ]
     },
     "execution_count": 217,
     "metadata": {},
     "output_type": "execute_result"
    }
   ],
   "source": [
    "teams.head(1)"
   ]
  },
  {
   "cell_type": "markdown",
   "metadata": {},
   "source": [
    "### Serperating Home and Away Games"
   ]
  },
  {
   "cell_type": "markdown",
   "metadata": {},
   "source": [
    "\n",
    "* Because each game has two teams I separated the two teams; visitor and home into two tables.\n",
    "* I then modified the data columns to match each other so they could be concatenated together.\n",
    "* Because only the home team was marked as a win I had to 'negate' the win column for the visitor team."
   ]
  },
  {
   "cell_type": "code",
   "execution_count": 218,
   "metadata": {},
   "outputs": [],
   "source": [
    "away_games = pd.merge(teams[['TEAM_ID','NICKNAME']], games, left_on = 'TEAM_ID', right_on='VISITOR_TEAM_ID', how = 'inner')\n",
    "away_games = away_games.drop(columns=['TEAM_ID','HOME_TEAM_ID','TEAM_ID_home','PTS_home','FG_PCT_home','FT_PCT_home','FG3_PCT_home','AST_home','REB_home','TEAM_ID_away'])\n",
    "away_games = away_games.rename(columns = {'VISITOR_TEAM_ID':'TEAM_ID', 'PTS_away':'AVG_PTS', 'FT_PCT_away':'FT_PCT', 'FG_PCT_away':'FG_PCT', 'FG3_PCT_away':'FG3_PCT', 'AST_away':'AVG_AST', 'REB_away':'AVG_REB', 'HOME_TEAM_WINS':'WIN'})\n",
    "away_games['WIN'] = abs(away_games['WIN'] - 1)\n",
    "\n",
    "home_games = pd.merge(teams[['TEAM_ID','NICKNAME']], games, left_on = 'TEAM_ID', right_on='HOME_TEAM_ID', how = 'inner')\n",
    "home_games = home_games.drop(columns=['TEAM_ID','VISITOR_TEAM_ID','TEAM_ID_away','PTS_away','FG_PCT_away','FT_PCT_away','FG3_PCT_away','AST_away','REB_away','TEAM_ID_home'])\n",
    "home_games = home_games.rename(columns = {'HOME_TEAM_ID':'TEAM_ID', 'PTS_home':'AVG_PTS', 'FT_PCT_home':'FT_PCT', 'FG_PCT_home':'FG_PCT', 'FG3_PCT_home':'FG3_PCT', 'AST_home':'AVG_AST', 'REB_home':'AVG_REB', 'HOME_TEAM_WINS':'WIN'})"
   ]
  },
  {
   "cell_type": "markdown",
   "metadata": {},
   "source": [
    "##### Merging All Games"
   ]
  },
  {
   "cell_type": "code",
   "execution_count": 219,
   "metadata": {},
   "outputs": [],
   "source": [
    "games = pd.concat([away_games, home_games], axis = 0)"
   ]
  },
  {
   "cell_type": "markdown",
   "metadata": {},
   "source": [
    "Now we have a dataframe double size of the original because there is one team per game entry. Doing this was extremely necessary to get stats per game per team and is used throught the rest of this notebook. "
   ]
  },
  {
   "cell_type": "code",
   "execution_count": 220,
   "metadata": {},
   "outputs": [
    {
     "data": {
      "text/html": [
       "<div>\n",
       "<style scoped>\n",
       "    .dataframe tbody tr th:only-of-type {\n",
       "        vertical-align: middle;\n",
       "    }\n",
       "\n",
       "    .dataframe tbody tr th {\n",
       "        vertical-align: top;\n",
       "    }\n",
       "\n",
       "    .dataframe thead th {\n",
       "        text-align: right;\n",
       "    }\n",
       "</style>\n",
       "<table border=\"1\" class=\"dataframe\">\n",
       "  <thead>\n",
       "    <tr style=\"text-align: right;\">\n",
       "      <th></th>\n",
       "      <th>NICKNAME</th>\n",
       "      <th>GAME_DATE_EST</th>\n",
       "      <th>GAME_ID</th>\n",
       "      <th>GAME_STATUS_TEXT</th>\n",
       "      <th>TEAM_ID</th>\n",
       "      <th>SEASON</th>\n",
       "      <th>AVG_PTS</th>\n",
       "      <th>FG_PCT</th>\n",
       "      <th>FT_PCT</th>\n",
       "      <th>FG3_PCT</th>\n",
       "      <th>AVG_AST</th>\n",
       "      <th>AVG_REB</th>\n",
       "      <th>WIN</th>\n",
       "    </tr>\n",
       "  </thead>\n",
       "  <tbody>\n",
       "    <tr>\n",
       "      <th>0</th>\n",
       "      <td>Hawks</td>\n",
       "      <td>2022-03-09</td>\n",
       "      <td>22100984</td>\n",
       "      <td>Final</td>\n",
       "      <td>1610612737</td>\n",
       "      <td>2021</td>\n",
       "      <td>115.0</td>\n",
       "      <td>0.500</td>\n",
       "      <td>0.818</td>\n",
       "      <td>0.289</td>\n",
       "      <td>26.0</td>\n",
       "      <td>44.0</td>\n",
       "      <td>0</td>\n",
       "    </tr>\n",
       "    <tr>\n",
       "      <th>1</th>\n",
       "      <td>Hawks</td>\n",
       "      <td>2022-03-07</td>\n",
       "      <td>22100968</td>\n",
       "      <td>Final</td>\n",
       "      <td>1610612737</td>\n",
       "      <td>2021</td>\n",
       "      <td>110.0</td>\n",
       "      <td>0.452</td>\n",
       "      <td>0.682</td>\n",
       "      <td>0.289</td>\n",
       "      <td>28.0</td>\n",
       "      <td>48.0</td>\n",
       "      <td>0</td>\n",
       "    </tr>\n",
       "    <tr>\n",
       "      <th>2</th>\n",
       "      <td>Hawks</td>\n",
       "      <td>2022-03-04</td>\n",
       "      <td>22100948</td>\n",
       "      <td>Final</td>\n",
       "      <td>1610612737</td>\n",
       "      <td>2021</td>\n",
       "      <td>117.0</td>\n",
       "      <td>0.418</td>\n",
       "      <td>0.824</td>\n",
       "      <td>0.361</td>\n",
       "      <td>18.0</td>\n",
       "      <td>39.0</td>\n",
       "      <td>1</td>\n",
       "    </tr>\n",
       "    <tr>\n",
       "      <th>3</th>\n",
       "      <td>Hawks</td>\n",
       "      <td>2022-03-01</td>\n",
       "      <td>22100927</td>\n",
       "      <td>Final</td>\n",
       "      <td>1610612737</td>\n",
       "      <td>2021</td>\n",
       "      <td>98.0</td>\n",
       "      <td>0.434</td>\n",
       "      <td>0.792</td>\n",
       "      <td>0.226</td>\n",
       "      <td>15.0</td>\n",
       "      <td>37.0</td>\n",
       "      <td>0</td>\n",
       "    </tr>\n",
       "    <tr>\n",
       "      <th>4</th>\n",
       "      <td>Hawks</td>\n",
       "      <td>2022-02-24</td>\n",
       "      <td>22100891</td>\n",
       "      <td>Final</td>\n",
       "      <td>1610612737</td>\n",
       "      <td>2021</td>\n",
       "      <td>108.0</td>\n",
       "      <td>0.423</td>\n",
       "      <td>0.667</td>\n",
       "      <td>0.286</td>\n",
       "      <td>20.0</td>\n",
       "      <td>45.0</td>\n",
       "      <td>0</td>\n",
       "    </tr>\n",
       "  </tbody>\n",
       "</table>\n",
       "</div>"
      ],
      "text/plain": [
       "  NICKNAME GAME_DATE_EST   GAME_ID GAME_STATUS_TEXT     TEAM_ID  SEASON  \\\n",
       "0    Hawks    2022-03-09  22100984            Final  1610612737    2021   \n",
       "1    Hawks    2022-03-07  22100968            Final  1610612737    2021   \n",
       "2    Hawks    2022-03-04  22100948            Final  1610612737    2021   \n",
       "3    Hawks    2022-03-01  22100927            Final  1610612737    2021   \n",
       "4    Hawks    2022-02-24  22100891            Final  1610612737    2021   \n",
       "\n",
       "   AVG_PTS  FG_PCT  FT_PCT  FG3_PCT  AVG_AST  AVG_REB  WIN  \n",
       "0    115.0   0.500   0.818    0.289     26.0     44.0    0  \n",
       "1    110.0   0.452   0.682    0.289     28.0     48.0    0  \n",
       "2    117.0   0.418   0.824    0.361     18.0     39.0    1  \n",
       "3     98.0   0.434   0.792    0.226     15.0     37.0    0  \n",
       "4    108.0   0.423   0.667    0.286     20.0     45.0    0  "
      ]
     },
     "execution_count": 220,
     "metadata": {},
     "output_type": "execute_result"
    }
   ],
   "source": [
    "games.head()"
   ]
  },
  {
   "cell_type": "markdown",
   "metadata": {},
   "source": [
    "### Top 10 Most Average Points by Player"
   ]
  },
  {
   "cell_type": "code",
   "execution_count": 221,
   "metadata": {},
   "outputs": [
    {
     "data": {
      "text/html": [
       "<div>\n",
       "<style scoped>\n",
       "    .dataframe tbody tr th:only-of-type {\n",
       "        vertical-align: middle;\n",
       "    }\n",
       "\n",
       "    .dataframe tbody tr th {\n",
       "        vertical-align: top;\n",
       "    }\n",
       "\n",
       "    .dataframe thead th {\n",
       "        text-align: right;\n",
       "    }\n",
       "</style>\n",
       "<table border=\"1\" class=\"dataframe\">\n",
       "  <thead>\n",
       "    <tr style=\"text-align: right;\">\n",
       "      <th></th>\n",
       "      <th>PTS</th>\n",
       "    </tr>\n",
       "    <tr>\n",
       "      <th>PLAYER_NAME</th>\n",
       "      <th></th>\n",
       "    </tr>\n",
       "  </thead>\n",
       "  <tbody>\n",
       "    <tr>\n",
       "      <th>Kevin Durant</th>\n",
       "      <td>26.958736</td>\n",
       "    </tr>\n",
       "    <tr>\n",
       "      <th>LeBron James</th>\n",
       "      <td>26.825015</td>\n",
       "    </tr>\n",
       "    <tr>\n",
       "      <th>Kobe Bryant</th>\n",
       "      <td>26.621463</td>\n",
       "    </tr>\n",
       "    <tr>\n",
       "      <th>Luka Doncic</th>\n",
       "      <td>26.050179</td>\n",
       "    </tr>\n",
       "    <tr>\n",
       "      <th>Allen Iverson</th>\n",
       "      <td>25.863341</td>\n",
       "    </tr>\n",
       "    <tr>\n",
       "      <th>Zion Williamson</th>\n",
       "      <td>25.619565</td>\n",
       "    </tr>\n",
       "    <tr>\n",
       "      <th>Joel Embiid</th>\n",
       "      <td>24.967213</td>\n",
       "    </tr>\n",
       "    <tr>\n",
       "      <th>Trae Young</th>\n",
       "      <td>24.682274</td>\n",
       "    </tr>\n",
       "    <tr>\n",
       "      <th>James Harden</th>\n",
       "      <td>24.444543</td>\n",
       "    </tr>\n",
       "    <tr>\n",
       "      <th>Damian Lillard</th>\n",
       "      <td>24.305725</td>\n",
       "    </tr>\n",
       "  </tbody>\n",
       "</table>\n",
       "</div>"
      ],
      "text/plain": [
       "                       PTS\n",
       "PLAYER_NAME               \n",
       "Kevin Durant     26.958736\n",
       "LeBron James     26.825015\n",
       "Kobe Bryant      26.621463\n",
       "Luka Doncic      26.050179\n",
       "Allen Iverson    25.863341\n",
       "Zion Williamson  25.619565\n",
       "Joel Embiid      24.967213\n",
       "Trae Young       24.682274\n",
       "James Harden     24.444543\n",
       "Damian Lillard   24.305725"
      ]
     },
     "execution_count": 221,
     "metadata": {},
     "output_type": "execute_result"
    }
   ],
   "source": [
    "top_pts_players= games_details.groupby(['PLAYER_NAME']).mean().sort_values(by='PTS', ascending = False).head(10)[['PTS']]\n",
    "top_pts_players"
   ]
  },
  {
   "cell_type": "markdown",
   "metadata": {},
   "source": [
    "Kevin Durant has averaged the most points in his career over any other player since 2002. Although he along with many others on this list are older in age. There are many younger prospects looking to take his place. "
   ]
  },
  {
   "cell_type": "markdown",
   "metadata": {},
   "source": [
    "### Top 10 - Most Average Rebounds by Player"
   ]
  },
  {
   "cell_type": "code",
   "execution_count": 222,
   "metadata": {},
   "outputs": [
    {
     "data": {
      "text/html": [
       "<div>\n",
       "<style scoped>\n",
       "    .dataframe tbody tr th:only-of-type {\n",
       "        vertical-align: middle;\n",
       "    }\n",
       "\n",
       "    .dataframe tbody tr th {\n",
       "        vertical-align: top;\n",
       "    }\n",
       "\n",
       "    .dataframe thead th {\n",
       "        text-align: right;\n",
       "    }\n",
       "</style>\n",
       "<table border=\"1\" class=\"dataframe\">\n",
       "  <thead>\n",
       "    <tr style=\"text-align: right;\">\n",
       "      <th></th>\n",
       "      <th>REB</th>\n",
       "    </tr>\n",
       "    <tr>\n",
       "      <th>PLAYER_NAME</th>\n",
       "      <th></th>\n",
       "    </tr>\n",
       "  </thead>\n",
       "  <tbody>\n",
       "    <tr>\n",
       "      <th>Andre Drummond</th>\n",
       "      <td>13.111255</td>\n",
       "    </tr>\n",
       "    <tr>\n",
       "      <th>Dwight Howard</th>\n",
       "      <td>11.675732</td>\n",
       "    </tr>\n",
       "    <tr>\n",
       "      <th>Rudy Gobert</th>\n",
       "      <td>11.358824</td>\n",
       "    </tr>\n",
       "    <tr>\n",
       "      <th>Karl-Anthony Towns</th>\n",
       "      <td>11.147929</td>\n",
       "    </tr>\n",
       "    <tr>\n",
       "      <th>Joel Embiid</th>\n",
       "      <td>11.013661</td>\n",
       "    </tr>\n",
       "    <tr>\n",
       "      <th>Marcus Camby</th>\n",
       "      <td>10.718935</td>\n",
       "    </tr>\n",
       "    <tr>\n",
       "      <th>Hassan Whiteside</th>\n",
       "      <td>10.637993</td>\n",
       "    </tr>\n",
       "    <tr>\n",
       "      <th>Kevin Love</th>\n",
       "      <td>10.446995</td>\n",
       "    </tr>\n",
       "    <tr>\n",
       "      <th>Deandre Ayton</th>\n",
       "      <td>10.435606</td>\n",
       "    </tr>\n",
       "    <tr>\n",
       "      <th>DeAndre Jordan</th>\n",
       "      <td>10.285976</td>\n",
       "    </tr>\n",
       "  </tbody>\n",
       "</table>\n",
       "</div>"
      ],
      "text/plain": [
       "                          REB\n",
       "PLAYER_NAME                  \n",
       "Andre Drummond      13.111255\n",
       "Dwight Howard       11.675732\n",
       "Rudy Gobert         11.358824\n",
       "Karl-Anthony Towns  11.147929\n",
       "Joel Embiid         11.013661\n",
       "Marcus Camby        10.718935\n",
       "Hassan Whiteside    10.637993\n",
       "Kevin Love          10.446995\n",
       "Deandre Ayton       10.435606\n",
       "DeAndre Jordan      10.285976"
      ]
     },
     "execution_count": 222,
     "metadata": {},
     "output_type": "execute_result"
    }
   ],
   "source": [
    "top_reb_players = games_details.groupby(['PLAYER_NAME']).mean().sort_values(by='REB', ascending = False).head(10)[['REB']]\n",
    "top_reb_players"
   ]
  },
  {
   "cell_type": "markdown",
   "metadata": {},
   "source": [
    "Andre Drummond has averaged the most rebounds in his career over any other player since 2002."
   ]
  },
  {
   "cell_type": "markdown",
   "metadata": {},
   "source": [
    "### Top 5 - Nuggets Years by % of Games Won"
   ]
  },
  {
   "cell_type": "code",
   "execution_count": 223,
   "metadata": {},
   "outputs": [
    {
     "data": {
      "text/html": [
       "<div>\n",
       "<style scoped>\n",
       "    .dataframe tbody tr th:only-of-type {\n",
       "        vertical-align: middle;\n",
       "    }\n",
       "\n",
       "    .dataframe tbody tr th {\n",
       "        vertical-align: top;\n",
       "    }\n",
       "\n",
       "    .dataframe thead th {\n",
       "        text-align: right;\n",
       "    }\n",
       "</style>\n",
       "<table border=\"1\" class=\"dataframe\">\n",
       "  <thead>\n",
       "    <tr style=\"text-align: right;\">\n",
       "      <th></th>\n",
       "      <th></th>\n",
       "      <th>WIN</th>\n",
       "    </tr>\n",
       "    <tr>\n",
       "      <th>SEASON</th>\n",
       "      <th>NICKNAME</th>\n",
       "      <th></th>\n",
       "    </tr>\n",
       "  </thead>\n",
       "  <tbody>\n",
       "    <tr>\n",
       "      <th>2008</th>\n",
       "      <th>Nuggets</th>\n",
       "      <td>0.666667</td>\n",
       "    </tr>\n",
       "    <tr>\n",
       "      <th>2012</th>\n",
       "      <th>Nuggets</th>\n",
       "      <td>0.652632</td>\n",
       "    </tr>\n",
       "    <tr>\n",
       "      <th>2018</th>\n",
       "      <th>Nuggets</th>\n",
       "      <td>0.640000</td>\n",
       "    </tr>\n",
       "    <tr>\n",
       "      <th>2020</th>\n",
       "      <th>Nuggets</th>\n",
       "      <td>0.613636</td>\n",
       "    </tr>\n",
       "    <tr>\n",
       "      <th>2009</th>\n",
       "      <th>Nuggets</th>\n",
       "      <td>0.610526</td>\n",
       "    </tr>\n",
       "  </tbody>\n",
       "</table>\n",
       "</div>"
      ],
      "text/plain": [
       "                      WIN\n",
       "SEASON NICKNAME          \n",
       "2008   Nuggets   0.666667\n",
       "2012   Nuggets   0.652632\n",
       "2018   Nuggets   0.640000\n",
       "2020   Nuggets   0.613636\n",
       "2009   Nuggets   0.610526"
      ]
     },
     "execution_count": 223,
     "metadata": {},
     "output_type": "execute_result"
    }
   ],
   "source": [
    "nuggets_games = games.groupby(['SEASON','NICKNAME']).mean()\n",
    "result_df = nuggets_games.loc[(nuggets_games.index.get_level_values('NICKNAME') == 'Nuggets')]\n",
    "result_df.sort_values(by = 'WIN', ascending = False)[['WIN']].head(5)"
   ]
  },
  {
   "cell_type": "markdown",
   "metadata": {},
   "source": [
    "To date the Nuggets best 'year' was 2008 winning 66% of their games"
   ]
  },
  {
   "cell_type": "markdown",
   "metadata": {},
   "source": [
    "### Top 10 - Average Points Per Nuggets Player All Time"
   ]
  },
  {
   "cell_type": "code",
   "execution_count": 224,
   "metadata": {},
   "outputs": [
    {
     "data": {
      "text/html": [
       "<div>\n",
       "<style scoped>\n",
       "    .dataframe tbody tr th:only-of-type {\n",
       "        vertical-align: middle;\n",
       "    }\n",
       "\n",
       "    .dataframe tbody tr th {\n",
       "        vertical-align: top;\n",
       "    }\n",
       "\n",
       "    .dataframe thead th {\n",
       "        text-align: right;\n",
       "    }\n",
       "</style>\n",
       "<table border=\"1\" class=\"dataframe\">\n",
       "  <thead>\n",
       "    <tr style=\"text-align: right;\">\n",
       "      <th></th>\n",
       "      <th></th>\n",
       "      <th>PTS</th>\n",
       "    </tr>\n",
       "    <tr>\n",
       "      <th>TEAM_CITY</th>\n",
       "      <th>PLAYER_NAME</th>\n",
       "      <th></th>\n",
       "    </tr>\n",
       "  </thead>\n",
       "  <tbody>\n",
       "    <tr>\n",
       "      <th rowspan=\"10\" valign=\"top\">Denver</th>\n",
       "      <th>Allen Iverson</th>\n",
       "      <td>24.894737</td>\n",
       "    </tr>\n",
       "    <tr>\n",
       "      <th>Carmelo Anthony</th>\n",
       "      <td>24.458915</td>\n",
       "    </tr>\n",
       "    <tr>\n",
       "      <th>Nikola Jokic</th>\n",
       "      <td>19.425676</td>\n",
       "    </tr>\n",
       "    <tr>\n",
       "      <th>Chauncey Billups</th>\n",
       "      <td>17.991416</td>\n",
       "    </tr>\n",
       "    <tr>\n",
       "      <th>Jamal Murray</th>\n",
       "      <td>16.710723</td>\n",
       "    </tr>\n",
       "    <tr>\n",
       "      <th>Danilo Gallinari</th>\n",
       "      <td>15.931953</td>\n",
       "    </tr>\n",
       "    <tr>\n",
       "      <th>Anthony Roberson</th>\n",
       "      <td>14.200000</td>\n",
       "    </tr>\n",
       "    <tr>\n",
       "      <th>Ty Lawson</th>\n",
       "      <td>14.086498</td>\n",
       "    </tr>\n",
       "    <tr>\n",
       "      <th>Michael Porter Jr.</th>\n",
       "      <td>13.833333</td>\n",
       "    </tr>\n",
       "    <tr>\n",
       "      <th>JR Smith</th>\n",
       "      <td>13.674260</td>\n",
       "    </tr>\n",
       "  </tbody>\n",
       "</table>\n",
       "</div>"
      ],
      "text/plain": [
       "                                    PTS\n",
       "TEAM_CITY PLAYER_NAME                  \n",
       "Denver    Allen Iverson       24.894737\n",
       "          Carmelo Anthony     24.458915\n",
       "          Nikola Jokic        19.425676\n",
       "          Chauncey Billups    17.991416\n",
       "          Jamal Murray        16.710723\n",
       "          Danilo Gallinari    15.931953\n",
       "          Anthony Roberson    14.200000\n",
       "          Ty Lawson           14.086498\n",
       "          Michael Porter Jr.  13.833333\n",
       "          JR Smith            13.674260"
      ]
     },
     "execution_count": 224,
     "metadata": {},
     "output_type": "execute_result"
    }
   ],
   "source": [
    "nuggets_players = games_details.groupby(['TEAM_CITY','PLAYER_NAME']).mean()\n",
    "nuggets_players = nuggets_players.loc[(nuggets_players.index.get_level_values('TEAM_CITY') == 'Denver')]\n",
    "nuggets_players.sort_values(by = 'PTS', ascending = False).head(10)[['PTS']]\n"
   ]
  },
  {
   "cell_type": "markdown",
   "metadata": {},
   "source": [
    "Allen Iverson is the all time points per game leader for the Nuggets with 24.89 points per game. There are a few notable young names on this list who are looking to take his position. "
   ]
  },
  {
   "cell_type": "markdown",
   "metadata": {},
   "source": [
    "### NBA Changes Over Time"
   ]
  },
  {
   "cell_type": "markdown",
   "metadata": {},
   "source": [
    "* In this section I waned to see how stats have changed over the years.\n",
    "* First I merged the games table and the game_details table so I could get a more detailed look on stats per game.\n",
    "* This allowed me to get every stat for every player for every game.\n",
    "* I also converted the GAME_DATE_EST column to just have the year so that I could graph the year of the game rather then the season. "
   ]
  },
  {
   "cell_type": "code",
   "execution_count": 225,
   "metadata": {},
   "outputs": [],
   "source": [
    "game_details = pd.merge(games[['GAME_DATE_EST', 'GAME_ID', 'AVG_PTS','FG_PCT','FT_PCT','FG3_PCT']], games_details, on = 'GAME_ID', how = 'inner')\n",
    "game_details['GAME_DATE_EST'] = pd.to_datetime(game_details['GAME_DATE_EST'])\n",
    "game_details['GAME_DATE_EST'] = game_details['GAME_DATE_EST'].dt.year"
   ]
  },
  {
   "cell_type": "code",
   "execution_count": 226,
   "metadata": {},
   "outputs": [
    {
     "data": {
      "text/plain": [
       "<AxesSubplot:title={'center':'Average Feild Goal %'}, xlabel='GAME_DATE_EST'>"
      ]
     },
     "execution_count": 226,
     "metadata": {},
     "output_type": "execute_result"
    },
    {
     "data": {
      "image/png": "[encoded data removed]",
      "text/plain": [
       "<Figure size 1584x720 with 8 Axes>"
      ]
     },
     "metadata": {
      "needs_background": "light"
     },
     "output_type": "display_data"
    }
   ],
   "source": [
    "fig, axes = plt.subplots(nrows=2, ncols=4)\n",
    "fig.set_figheight(10)\n",
    "fig.set_figwidth(22)\n",
    "fig.suptitle('All stats are averages by player by year*')\n",
    "year_means = game_details.groupby(['GAME_DATE_EST']).mean()\n",
    "year_means[['FG3A','FG3M']].plot(ax=axes[0,0], kind = 'line', title = '3 Point Attempts vs. Makes')\n",
    "year_means[['FGA', 'FGM']].plot(ax=axes[0,1], kind = 'line', title = 'Feild Goal Attempts vs. Makes')\n",
    "year_means[['FTA', 'FTM']].plot(ax=axes[0,2], kind = 'line', title = 'Free Throw Attempts vs. Makes')\n",
    "year_means[['BLK']].plot(ax=axes[0,3], kind = 'line', title = 'Blocks')\n",
    "year_means[['STL']].plot(ax=axes[1,0], kind = 'line', title = 'Steals')\n",
    "year_means[['AVG_PTS']].plot(ax=axes[1,1], kind = 'line', title = 'Average Points Per Game')\n",
    "year_means[['FG3_PCT_y']].plot(ax=axes[1,2], kind = 'line', title = 'Average 3 Point %')\n",
    "year_means[['FG_PCT_y']].plot(ax=axes[1,3], kind = 'line', title = 'Average Feild Goal %')"
   ]
  },
  {
   "cell_type": "markdown",
   "metadata": {},
   "source": [
    "Based on the above graphs I find the 3pt data the most interesting. From 2003 - 2020 the number of felid goal attempts has doubled but the 3pt % has also increased. From this data I can conclude that NBA basketball been more dependent on the 3pt shot over the years. Average points per game per team has also increased significantly from 92.5 to 112.5. "
   ]
  },
  {
   "cell_type": "markdown",
   "metadata": {},
   "source": [
    "### Correlations"
   ]
  },
  {
   "cell_type": "markdown",
   "metadata": {},
   "source": [
    "* In this section I wasted to find which NBA stat has the most correlation with a team winning or not.\n",
    "* I displayed this by showing a table and graphing it to display it visually."
   ]
  },
  {
   "cell_type": "code",
   "execution_count": 227,
   "metadata": {},
   "outputs": [
    {
     "name": "stderr",
     "output_type": "stream",
     "text": [
      "C:\\Users\\Kylec\\AppData\\Local\\Temp\\ipykernel_14868\\3232046428.py:1: FutureWarning: Indexing with multiple keys (implicitly converted to a tuple of keys) will be deprecated, use a list instead.\n",
      "  games = games.groupby(['NICKNAME'])['AVG_PTS','FG_PCT','FT_PCT','FG3_PCT','AVG_AST','AVG_REB','WIN'].mean()\n"
     ]
    },
    {
     "data": {
      "text/html": [
       "<style type=\"text/css\">\n",
       "#T_368f3_row0_col1 {\n",
       "  background-color: #b40426;\n",
       "  color: #f1f1f1;\n",
       "}\n",
       "#T_368f3_row1_col1 {\n",
       "  background-color: #f08b6e;\n",
       "  color: #f1f1f1;\n",
       "}\n",
       "#T_368f3_row2_col1 {\n",
       "  background-color: #d6dce4;\n",
       "  color: #000000;\n",
       "}\n",
       "#T_368f3_row3_col1 {\n",
       "  background-color: #a7c5fe;\n",
       "  color: #000000;\n",
       "}\n",
       "#T_368f3_row4_col1 {\n",
       "  background-color: #6f92f3;\n",
       "  color: #f1f1f1;\n",
       "}\n",
       "#T_368f3_row5_col1 {\n",
       "  background-color: #3b4cc0;\n",
       "  color: #f1f1f1;\n",
       "}\n",
       "</style>\n",
       "<table id=\"T_368f3\">\n",
       "  <thead>\n",
       "    <tr>\n",
       "      <th class=\"blank level0\" >&nbsp;</th>\n",
       "      <th id=\"T_368f3_level0_col0\" class=\"col_heading level0 col0\" >index</th>\n",
       "      <th id=\"T_368f3_level0_col1\" class=\"col_heading level0 col1\" >WIN</th>\n",
       "    </tr>\n",
       "  </thead>\n",
       "  <tbody>\n",
       "    <tr>\n",
       "      <th id=\"T_368f3_level0_row0\" class=\"row_heading level0 row0\" >1</th>\n",
       "      <td id=\"T_368f3_row0_col0\" class=\"data row0 col0\" >FG_PCT</td>\n",
       "      <td id=\"T_368f3_row0_col1\" class=\"data row0 col1\" >0.673448</td>\n",
       "    </tr>\n",
       "    <tr>\n",
       "      <th id=\"T_368f3_level0_row1\" class=\"row_heading level0 row1\" >2</th>\n",
       "      <td id=\"T_368f3_row1_col0\" class=\"data row1 col0\" >FG3_PCT</td>\n",
       "      <td id=\"T_368f3_row1_col1\" class=\"data row1 col1\" >0.565631</td>\n",
       "    </tr>\n",
       "    <tr>\n",
       "      <th id=\"T_368f3_level0_row2\" class=\"row_heading level0 row2\" >3</th>\n",
       "      <td id=\"T_368f3_row2_col0\" class=\"data row2 col0\" >AVG_PTS</td>\n",
       "      <td id=\"T_368f3_row2_col1\" class=\"data row2 col1\" >0.412679</td>\n",
       "    </tr>\n",
       "    <tr>\n",
       "      <th id=\"T_368f3_level0_row3\" class=\"row_heading level0 row3\" >4</th>\n",
       "      <td id=\"T_368f3_row3_col0\" class=\"data row3 col0\" >AVG_AST</td>\n",
       "      <td id=\"T_368f3_row3_col1\" class=\"data row3 col1\" >0.337127</td>\n",
       "    </tr>\n",
       "    <tr>\n",
       "      <th id=\"T_368f3_level0_row4\" class=\"row_heading level0 row4\" >5</th>\n",
       "      <td id=\"T_368f3_row4_col0\" class=\"data row4 col0\" >AVG_REB</td>\n",
       "      <td id=\"T_368f3_row4_col1\" class=\"data row4 col1\" >0.258242</td>\n",
       "    </tr>\n",
       "    <tr>\n",
       "      <th id=\"T_368f3_level0_row5\" class=\"row_heading level0 row5\" >6</th>\n",
       "      <td id=\"T_368f3_row5_col0\" class=\"data row5 col0\" >FT_PCT</td>\n",
       "      <td id=\"T_368f3_row5_col1\" class=\"data row5 col1\" >0.175425</td>\n",
       "    </tr>\n",
       "  </tbody>\n",
       "</table>\n"
      ],
      "text/plain": [
       "<pandas.io.formats.style.Styler at 0x22f2e37b160>"
      ]
     },
     "execution_count": 227,
     "metadata": {},
     "output_type": "execute_result"
    }
   ],
   "source": [
    "games = games.groupby(['NICKNAME'])['AVG_PTS','FG_PCT','FT_PCT','FG3_PCT','AVG_AST','AVG_REB','WIN'].mean()\n",
    "\n",
    "corr = games.corr(method='pearson')[['WIN']].sort_values(by = 'WIN', ascending = False)\n",
    "corr.reset_index(inplace=True)\n",
    "corr = corr.iloc[1: , :]\n",
    "corr.style.background_gradient(cmap='coolwarm')"
   ]
  },
  {
   "cell_type": "code",
   "execution_count": 228,
   "metadata": {},
   "outputs": [
    {
     "data": {
      "image/png": "[encoded data removed]",
      "text/plain": [
       "<Figure size 576x576 with 1 Axes>"
      ]
     },
     "metadata": {
      "needs_background": "light"
     },
     "output_type": "display_data"
    }
   ],
   "source": [
    "fig, ax = plt.subplots(figsize=(8,8))\n",
    "ax.set_title('Correlation to Winning 2003 - 2022')\n",
    "ax.set_ylabel('Correlation to Winning')\n",
    "ax = sns.barplot(y='index',x='WIN',data=corr)\n",
    "ax.set_xlabel('Correlation to Winning')\n",
    "ax.set_ylabel('Statistic')\n",
    "plt.tight_layout()\n",
    "plt.show()"
   ]
  },
  {
   "cell_type": "markdown",
   "metadata": {},
   "source": [
    "From this chart you can see field goal % has the most impact on weather the team wins or not. Although this is the stat I predicted I am shocked by the correlation at .67. "
   ]
  },
  {
   "cell_type": "markdown",
   "metadata": {},
   "source": [
    "#### Overall this project was a success and all my questions were answered. I learned a lot more about pandas dataframes diving much more into the groupby function. I also learned a lot more an merging tables together to get the data you desire."
   ]
  }
 ],
 "metadata": {
  "interpreter": {
   "hash": "52c95d02f1bfe7c59da35d3ff8fa76f7d162251a8bf0068369a0a87df4b3e5e7"
  },
  "kernelspec": {
   "display_name": "Python 3.10.4 64-bit",
   "language": "python",
   "name": "python3"
  },
  "language_info": {
   "codemirror_mode": {
    "name": "ipython",
    "version": 3
   },
   "file_extension": ".py",
   "mimetype": "text/x-python",
   "name": "python",
   "nbconvert_exporter": "python",
   "pygments_lexer": "ipython3",
   "version": "3.10.4"
  },
  "orig_nbformat": 4
 },
 "nbformat": 4,
 "nbformat_minor": 2
}
